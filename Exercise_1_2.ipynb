{
 "cells": [
  {
   "cell_type": "markdown",
   "id": "168a5c52",
   "metadata": {},
   "source": [
    "# 1 and 2 "
   ]
  },
  {
   "cell_type": "markdown",
   "id": "30c7e6d7",
   "metadata": {},
   "source": [
    "# Select images for Experiment 1\n",
    "\n",
    "Steps:\n",
    "\n",
    "1. Download aligned and cropped face dataset off of kaggle, get familiarised with it. Images are labelled with metadata: [age] _ [gender] _ [race] _ [date&time] .\n",
    "\n",
    "2. Decide on a facial feature that the test participants will rate in Experiment 1. We have decided to do: Happy/Sad 26 year-old black women.\n",
    "\n",
    "3. Select an initial subset of approximately 300 images for Experiment 1. Use Excel-file UTKFace_Info.xlsx as help. Update https://docs.google.com/spreadsheets/d/15q9CGJnwyNy_7i_-u31AWPhznXJPHpOr4EuCGV_GIzw/edit?usp=sharing with research question.\n",
    "\n",
    "4. Conduct manual quality control and discard images that do not have a high resolution or do not contain a full-frontal photo of a face. Also keep an eye out for salient water marks. Minimum 200 images should remain after quality control!\n",
    "\n",
    "5. Finally, gray-scale the images and consider if you want to reduce the dimensionality of the images using cropping and down-sampling."
   ]
  },
  {
   "cell_type": "code",
   "execution_count": 6,
   "id": "eeaedc01",
   "metadata": {},
   "outputs": [
    {
     "name": "stdout",
     "output_type": "stream",
     "text": [
      "Path to dataset files: /Users/viraj.rajurkar/.cache/kagglehub/datasets/abhikjha/utk-face-cropped/versions/1\n"
     ]
    }
   ],
   "source": [
    "import kagglehub\n",
    "\n",
    "# Download latest version\n",
    "path = kagglehub.dataset_download(\"abhikjha/utk-face-cropped\")\n",
    "\n",
    "print(\"Path to dataset files:\", path)"
   ]
  },
  {
   "cell_type": "markdown",
   "id": "6e4158b7",
   "metadata": {},
   "source": [
    "This section was written by Viraj to select the images that Mustafa and Anka chose."
   ]
  },
  {
   "cell_type": "code",
   "execution_count": null,
   "id": "22f5c37c",
   "metadata": {},
   "outputs": [
    {
     "name": "stdout",
     "output_type": "stream",
     "text": [
      "Copied 280 images to /Users/viraj.rajurkar/Cognitive-Modelling-Project/processed_data\n"
     ]
    }
   ],
   "source": [
    "#Taking Mustafa and Anka's list and selecting the 280 images that they chose.\n",
    "\n",
    "import pandas as pd\n",
    "from pathlib import Path\n",
    "import shutil\n",
    "\n",
    "# === CONFIG ===\n",
    "images_dir = Path(\"/Users/viraj.rajurkar/Desktop/CogModData\")     \n",
    "ratings_file = Path(\"/Users/viraj.rajurkar/Cognitive-Modelling-Project/newfiltered (1).txt\")       \n",
    "out_dir = Path(\"/Users/viraj.rajurkar/Cognitive-Modelling-Project/processed_data\")                 # folder where extracted images go\n",
    "\n",
    "# === SETUP ===\n",
    "out_dir.mkdir(exist_ok=True)\n",
    "\n",
    "# Load teammates’ list (filename, r1, r2)\n",
    "df = pd.read_csv(ratings_file, header=None, names=[\"filename\", \"r1\", \"r2\"])\n",
    "filenames = df[\"filename\"].str.strip().tolist()\n",
    "\n",
    "# Match and copy\n",
    "found, missing = [], []\n",
    "for fname in filenames:\n",
    "    img_path = images_dir / fname\n",
    "    if img_path.exists():\n",
    "        shutil.copy2(img_path, out_dir / fname)\n",
    "        found.append(fname)\n",
    "    else:\n",
    "        missing.append(fname)\n",
    "\n",
    "print(f\"Copied {len(found)} images to {out_dir}\")\n",
    "if missing:\n",
    "    print(f\"Missing {len(missing)} images (examples: {missing[:5]})\")\n"
   ]
  },
  {
   "cell_type": "markdown",
   "id": "2e10fff9",
   "metadata": {},
   "source": [
    "Pre-processing of images.\n",
    "\n",
    "1. Gray-scale the images. Take the RGB nonsense (3 dimensions already) of the images and make it gray (1 dimension). This won't affect how the images are perceived as \"happy\", because RGB doesn't really affect the perception of happiness.\n",
    "\n",
    "2. Crop the images for unwanted excess.\n",
    "\n",
    "3. Reduce the dimensionality to something appropriate like 64x64. This seems to be standard in simple image processing tasks like ours. This'll also greatly reduce dimensionality while preserving information!"
   ]
  },
  {
   "cell_type": "code",
   "execution_count": 3,
   "id": "9fff45d6",
   "metadata": {},
   "outputs": [
    {
     "name": "stdout",
     "output_type": "stream",
     "text": [
      "Done.\n",
      "Processed images folder: processed_64x64_gray\n",
      "X.npy shape: (280, 4096)\n",
      "Example: each row is one grayscale image flattened to 4096 pixels.\n"
     ]
    }
   ],
   "source": [
    "from pathlib import Path\n",
    "from PIL import Image\n",
    "import numpy as np\n",
    "import pandas as pd\n",
    "\n",
    "# Config files and target size\n",
    "in_dir = Path(\"processed_data\")         # folder with Anka and Mustafa's ~280 chosen images\n",
    "out_dir = Path(\"processed_64x64_gray\") # where processed images & arrays go\n",
    "target_size = (64, 64)                 # down-sampled size (64,64)\n",
    "\n",
    "# Setup\n",
    "out_dir.mkdir(parents=True, exist_ok=True)\n",
    "valid_exts = {\".jpg\"}\n",
    "\n",
    "def center_square_crop(img: Image.Image) -> Image.Image:\n",
    "    \"\"\"Center-crop to a square using the min dimension (keeps face centered).\"\"\"\n",
    "    w, h = img.size\n",
    "    side = min(w, h)\n",
    "    left = (w - side) // 2\n",
    "    top = (h - side) // 2\n",
    "    return img.crop((left, top, left + side, top + side))\n",
    "\n",
    "def process_one(path: Path, target_size=(64,64)) -> Image.Image:\n",
    "    img = Image.open(path).convert(\"RGB\")   # normalize mode\n",
    "    gray = img.convert(\"L\")                  # grayscale (1 channel)\n",
    "    cropped = center_square_crop(gray)       # safe center square crop\n",
    "    resized = cropped.resize(target_size, Image.BILINEAR)  # down-sample\n",
    "    return resized\n",
    "\n",
    "# Pre-processing \n",
    "files = sorted([p for p in in_dir.iterdir() if p.suffix.lower() in valid_exts])\n",
    "X = []\n",
    "kept_names = []\n",
    "\n",
    "for src in files:\n",
    "    try:\n",
    "        out_img = process_one(src, target_size=target_size)\n",
    "        # save processed image (same filename) for easy visual checks\n",
    "        out_path = out_dir / src.name\n",
    "        out_img.save(out_path)\n",
    "        # add to matrix (flatten to 1D vector for PCA later)\n",
    "        X.append(np.array(out_img, dtype=np.float32).ravel())\n",
    "        kept_names.append(src.name)\n",
    "    \n",
    "    except Exception as e:\n",
    "        print(f\"Skip {src.name}: {e}\")\n",
    "\n",
    "X = np.stack(X) if X else np.empty((0, target_size[0]*target_size[1]), dtype=np.float32)\n",
    "\n",
    "# Save artifacts\n",
    "np.save(out_dir / \"X.npy\", X)  # shape: (N, H*W) e.g., (280, 4096) for 64x64\n",
    "pd.Series(kept_names, name=\"filename\").to_csv(out_dir / \"filenames.csv\", index=False)\n",
    "\n",
    "print(\"Done.\")\n",
    "print(\"Processed images folder:\", out_dir)\n",
    "print(\"X.npy shape:\", X.shape)\n",
    "print(\"Example: each row is one grayscale image flattened to\", target_size[0]*target_size[1], \"pixels.\")\n"
   ]
  },
  {
   "cell_type": "code",
   "execution_count": null,
   "id": "b5cbf0db",
   "metadata": {},
   "outputs": [],
   "source": [
    "# Experiment 1: Per-participant ratings\n",
    "\n",
    "from pathlib import Path\n",
    "from IPython.display import display, Image as IPyImage\n",
    "from PIL import Image\n",
    "import random, csv, json\n",
    "from collections import defaultdict, Counter\n",
    "import os\n",
    "\n",
    "# Configs\n",
    "STUDENT_ID = \"s215221\"                       # \n",
    "IMAGE_DIR  = Path(\"processed_64x64_gray\")    # <-- folder containing your 280 grayscale images\n",
    "OUTPUT_DIR = Path(\"exp1_outputs\")            # where logs/CSVs will be saved\n",
    "VALID_EXTS = {\".jpg\"}\n",
    "RATING_MIN, RATING_MAX = 1, 5\n",
    "# ----------------------------------------\n",
    "\n",
    "OUTPUT_DIR.mkdir(parents=True, exist_ok=True)\n",
    "trial_log_path = OUTPUT_DIR / f\"{STUDENT_ID}_trial_log.txt\"   # per-trial log (append as you go)\n",
    "final_csv_path = OUTPUT_DIR / f\"{STUDENT_ID}.txt\"             # final file: filename,rating1,rating2\n",
    "manifest_path  = OUTPUT_DIR / f\"{STUDENT_ID}_manifest.json\"\n",
    "\n",
    "# Gathering images\n",
    "files = sorted([p for p in IMAGE_DIR.iterdir() if p.suffix.lower() in VALID_EXTS])\n",
    "if not files:\n",
    "    raise RuntimeError(f\"No images found in {IMAGE_DIR}. Check IMAGE_DIR and extensions.\")\n",
    "\n",
    "# Build/resume trials: each filename appears twice\n",
    "# We'll use a trial-level log to support resuming.\n",
    "def load_trial_log(path):\n",
    "    rows = []\n",
    "    if path.exists():\n",
    "        with open(path, \"r\", newline=\"\", encoding=\"utf-8\") as f:\n",
    "            reader = csv.DictReader(f)\n",
    "            for r in reader:\n",
    "                rows.append(r)\n",
    "    return rows\n",
    "\n",
    "def save_trial_row(path, row, write_header_if_new=True):\n",
    "    file_exists = path.exists()\n",
    "    with open(path, \"a\", newline=\"\", encoding=\"utf-8\") as f:\n",
    "        writer = None\n",
    "        if write_header_if_new and not file_exists:\n",
    "            writer = csv.DictWriter(f, fieldnames=[\"trial_index\",\"filename\",\"rating\"])\n",
    "            writer.writeheader()\n",
    "        writer = csv.DictWriter(f, fieldnames=[\"trial_index\",\"filename\",\"rating\"])\n",
    "        writer.writerow(row)\n",
    "\n",
    "# Count how many ratings already collected per image (0, 1, or 2)\n",
    "existing = load_trial_log(trial_log_path)\n",
    "count_per_image = Counter([r[\"filename\"] for r in existing])\n",
    "\n",
    "# Create full list of required trials (2 per filename), then drop ones already completed (2)\n",
    "required_trials = []\n",
    "for p in files:\n",
    "    needed = 2 - count_per_image[p.name]\n",
    "    if needed > 0:\n",
    "        required_trials.extend([p.name]*needed)\n",
    "\n",
    "# Randomize order of remaining trials\n",
    "random.shuffle(required_trials)\n",
    "\n",
    "print(f\"Images in folder: {len(files)}\")\n",
    "already_done = sum(min(2, count_per_image[p.name]) for p in files)\n",
    "print(f\"Ratings already logged (resume): {already_done} / {len(files)*2}\")\n",
    "print(f\"Trials remaining this run: {len(required_trials)}\")\n",
    "\n",
    "# Looping to see images and collect ratings\n",
    "trial_index_start = len(existing)\n",
    "for i, fname in enumerate(required_trials, start=trial_index_start):\n",
    "    img_path = IMAGE_DIR / fname\n",
    "    # Display in notebook\n",
    "    display(IPyImage(filename=str(img_path)))\n",
    "    # Input with validation\n",
    "    while True:\n",
    "        raw = input(f\"[{i+1}/{len(files)*2}] Rate {fname} on {RATING_MIN}-{RATING_MAX} (or 'q' to quit): \").strip()\n",
    "        if raw.lower() in {\"q\",\"quit\",\"exit\"}:\n",
    "            print(\"Stopping early. Progress saved. Re-run this cell later to resume.\")\n",
    "            raise SystemExit\n",
    "        try:\n",
    "            rating = int(raw)\n",
    "            if RATING_MIN <= rating <= RATING_MAX:\n",
    "                break\n",
    "            else:\n",
    "                print(f\"Please enter an integer between {RATING_MIN} and {RATING_MAX}.\")\n",
    "        except:\n",
    "            print(\"Please enter a valid integer.\")\n",
    "\n",
    "    # Save a trial row right away (failsafe for crashes/interrupts)\n",
    "    save_trial_row(trial_log_path, {\n",
    "        \"trial_index\": i,\n",
    "        \"filename\": fname,\n",
    "        \"rating\": rating\n",
    "    })\n",
    "\n",
    "print(\"All trials completed for this participant.\")\n",
    "\n",
    "# Build the final per-participant CSV: filename, rating1, rating2\n",
    "# Preserve the order the two ratings were recorded for each image.\n",
    "trial_rows = load_trial_log(trial_log_path)\n",
    "by_file = defaultdict(list)\n",
    "for r in trial_rows:\n",
    "    by_file[r[\"filename\"]].append(int(r[\"rating\"]))\n",
    "# only keep first two ratings (there should be exactly 2)\n",
    "for k in by_file:\n",
    "    by_file[k] = by_file[k][:2]\n",
    "\n",
    "# Verify completeness\n",
    "incomplete = [k for k, v in by_file.items() if len(v) != 2]\n",
    "if incomplete:\n",
    "    print(\"Warning: these images do not have 2 ratings yet:\", incomplete[:10])\n",
    "\n",
    "# Write final CSV\n",
    "with open(final_csv_path, \"w\", newline=\"\", encoding=\"utf-8\") as f:\n",
    "    writer = csv.writer(f)\n",
    "    writer.writerow([\"filename\",\"rating1\",\"rating2\"])\n",
    "    for p in files:  # keep a stable order by filename\n",
    "        r = by_file.get(p.name, [])\n",
    "        if len(r) == 2:\n",
    "            writer.writerow([p.name, r[0], r[1]])\n",
    "\n",
    "print(f\"Saved final CSV: {final_csv_path}\")\n",
    "# print(f\"(Per-trial log kept at {trial_log_path} for auditing/resume.)\")\n"
   ]
  },
  {
   "cell_type": "markdown",
   "id": "2ff9e333",
   "metadata": {},
   "source": [
    "Histogram for Anka and Mustafa (Experiment 1)"
   ]
  },
  {
   "cell_type": "code",
   "execution_count": 8,
   "id": "90b510b4",
   "metadata": {},
   "outputs": [
    {
     "data": {
      "image/png": "[encoded data removed]",
      "text/plain": [
       "<Figure size 600x400 with 1 Axes>"
      ]
     },
     "metadata": {},
     "output_type": "display_data"
    }
   ],
   "source": [
    "import pandas as pd\n",
    "import matplotlib.pyplot as plt\n",
    "\n",
    "# Load the .txt as CSV\n",
    "df = pd.read_csv(\"exp1_outputs/s215225.txt\")\n",
    "\n",
    "# Combine rating1 and rating2 into a single series\n",
    "all_ratings = pd.concat([df[\"rating1\"], df[\"rating2\"]], ignore_index=True)\n",
    "\n",
    "# Plot histogram\n",
    "plt.figure(figsize=(6,4))\n",
    "plt.hist(all_ratings, bins=[0.5,1.5,2.5,3.5,4.5,5.5], rwidth=0.9, color=\"blue\", edgecolor=\"black\")\n",
    "plt.xticks([1,2,3,4,5])\n",
    "plt.xlabel(\"Rating\")\n",
    "plt.ylabel(\"Count\")\n",
    "plt.title(\"Histogram of Ratings (s215225)\")\n",
    "plt.show()"
   ]
  },
  {
   "cell_type": "markdown",
   "id": "a64bbe27",
   "metadata": {},
   "source": [
    "Histogram for Viraj (Experiment 1)"
   ]
  },
  {
   "cell_type": "code",
   "execution_count": 9,
   "id": "dbb551c7",
   "metadata": {},
   "outputs": [
    {
     "data": {
      "image/png": "[encoded data removed]",
      "text/plain": [
       "<Figure size 600x400 with 1 Axes>"
      ]
     },
     "metadata": {},
     "output_type": "display_data"
    }
   ],
   "source": [
    "import pandas as pd\n",
    "import matplotlib.pyplot as plt\n",
    "\n",
    "# Load the .txt as CSV\n",
    "df = pd.read_csv(\"exp1_outputs/s215221.txt\")\n",
    "\n",
    "# Combine rating1 and rating2 into a single series\n",
    "all_ratings = pd.concat([df[\"rating1\"], df[\"rating2\"]], ignore_index=True)\n",
    "\n",
    "# Plot histogram\n",
    "plt.figure(figsize=(6,4))\n",
    "plt.hist(all_ratings, bins=[0.5,1.5,2.5,3.5,4.5,5.5], rwidth=0.9, color=\"blue\", edgecolor=\"black\")\n",
    "plt.xticks([1,2,3,4,5])\n",
    "plt.xlabel(\"Rating\")\n",
    "plt.ylabel(\"Count\")\n",
    "plt.title(\"Histogram of Ratings (s215221)\")\n",
    "plt.show()"
   ]
  },
  {
   "cell_type": "markdown",
   "id": "33a57f94",
   "metadata": {},
   "source": [
    "------------------------------------------------------------------------------------------\n",
    "\n",
    "The following sections are written as part of Experiment 1 by Mustafa and Anka"
   ]
  },
  {
   "cell_type": "code",
   "execution_count": null,
   "id": "9f92be70",
   "metadata": {},
   "outputs": [],
   "source": [
    "# Basically find the images containing 26 year old black women\n",
    "\n",
    "import os\n",
    "\n",
    "folder = os.listdir(path)[0]\n",
    "folder = os.path.join(path, folder)\n",
    "print(\"Folder with path:\", folder)\n",
    "black_women = [image for image in os.listdir(folder) if \"26_1_1_\" in image]\n",
    "print(\"Number of black women:\", len(black_women))\n",
    "\n",
    "\n",
    "# Copy files to a new folder\n",
    "import shutil\n",
    "new_folder = \"data\"\n",
    "for image in black_women:\n",
    "    src = os.path.join(folder, image)\n",
    "    dst = os.path.join(new_folder, image)\n",
    "    shutil.copy(src, dst)"
   ]
  },
  {
   "cell_type": "code",
   "execution_count": null,
   "id": "e447e4be",
   "metadata": {},
   "outputs": [],
   "source": [
    "# Basically manual annotation of images ... needs work loll!\n",
    "ratings = dict([(image, 0) for image in black_women])\n",
    "from IPython.display import Image, display\n",
    "\n",
    "num_images = len(ratings)\n",
    "current_image = 0\n",
    "deleted = 0\n",
    "rated_images =[]\n",
    "with open(\"ratings.txt\", \"r\") as f:\n",
    "    for line in f:\n",
    "        image, rating = line.strip().split(\", \")\n",
    "        rated_images.append(image)\n",
    "        current_image += 1\n",
    "        if rating == \"-1\":\n",
    "            deleted += 1\n",
    "\n",
    "for image in ratings.keys():\n",
    "    if image in rated_images:\n",
    "        continue\n",
    "    display(Image(filename=os.path.join(new_folder, image)))\n",
    "    rating = input(f\"Rate the attractiveness of the person in {image} (0-10): \") ### red flag\n",
    "    ratings[image] = int(rating)\n",
    "    current_image += 1\n",
    "    with open(\"ratings.txt\", \"a\") as f:\n",
    "        f.write(f\"{image}, {rating}\\n\")\n",
    "    print(f\"Progress: {current_image}/{num_images} images rated.\")\n",
    "    if rating == \"-1\":\n",
    "        deleted += 1\n",
    "        print(f\"Total deleted: {deleted}\")"
   ]
  },
  {
   "cell_type": "code",
   "execution_count": null,
   "id": "623462ff",
   "metadata": {},
   "outputs": [],
   "source": [
    "# Checks how many times each ratinfg was given in... like how many 1s, 2s, etc!\n",
    "\n",
    "ratings = []\n",
    "\n",
    "with open(\"ratings.txt\", \"r\") as f:\n",
    "    for line in f:\n",
    "        image, rating = line.strip().split(\", \")\n",
    "        ratings.append((image, int(rating)))\n",
    "\n",
    "# frequency of each rating\n",
    "from collections import Counter\n",
    "rating_counts = Counter([rating for image, rating in ratings])\n",
    "print(\"Rating counts:\", rating_counts)"
   ]
  }
 ],
 "metadata": {
  "kernelspec": {
   "display_name": "dtu_mlops",
   "language": "python",
   "name": "python3"
  },
  "language_info": {
   "codemirror_mode": {
    "name": "ipython",
    "version": 3
   },
   "file_extension": ".py",
   "mimetype": "text/x-python",
   "name": "python",
   "nbconvert_exporter": "python",
   "pygments_lexer": "ipython3",
   "version": "3.11.11"
  }
 },
 "nbformat": 4,
 "nbformat_minor": 5
}
