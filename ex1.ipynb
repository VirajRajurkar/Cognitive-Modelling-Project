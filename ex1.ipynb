{
 "cells": [
  {
   "cell_type": "markdown",
   "id": "168a5c52",
   "metadata": {},
   "source": [
    "# 1 and 2 "
   ]
  },
  {
   "cell_type": "code",
   "execution_count": null,
   "id": "eeaedc01",
   "metadata": {},
   "outputs": [],
   "source": [
    "import kagglehub\n",
    "\n",
    "# Download latest version\n",
    "path = kagglehub.dataset_download(\"abhikjha/utk-face-cropped\")\n",
    "\n",
    "print(\"Path to dataset files:\", path)"
   ]
  },
  {
   "cell_type": "code",
   "execution_count": null,
   "id": "9f92be70",
   "metadata": {},
   "outputs": [],
   "source": [
    "import os\n",
    "\n",
    "folder = os.listdir(path)[0]\n",
    "folder = os.path.join(path, folder)\n",
    "print(\"Folder with path:\", folder)\n",
    "black_women = [image for image in os.listdir(folder) if \"26_1_1_\" in image]\n",
    "print(\"Number of black women:\", len(black_women))\n",
    "\n",
    "\n",
    "# Copy files to a new folder\n",
    "import shutil\n",
    "new_folder = \"data\"\n",
    "for image in black_women:\n",
    "    src = os.path.join(folder, image)\n",
    "    dst = os.path.join(new_folder, image)\n",
    "    shutil.copy(src, dst)"
   ]
  },
  {
   "cell_type": "code",
   "execution_count": null,
   "id": "e447e4be",
   "metadata": {},
   "outputs": [],
   "source": [
    "ratings = dict([(image, 0) for image in black_women])\n",
    "from IPython.display import Image, display\n",
    "\n",
    "num_images = len(ratings)\n",
    "current_image = 0\n",
    "deleted = 0\n",
    "rated_images =[]\n",
    "with open(\"ratings.txt\", \"r\") as f:\n",
    "    for line in f:\n",
    "        image, rating = line.strip().split(\", \")\n",
    "        rated_images.append(image)\n",
    "        current_image += 1\n",
    "        if rating == \"-1\":\n",
    "            deleted += 1\n",
    "\n",
    "for image in ratings.keys():\n",
    "    if image in rated_images:\n",
    "        continue\n",
    "    display(Image(filename=os.path.join(new_folder, image)))\n",
    "    rating = input(f\"Rate the attractiveness of the person in {image} (0-10): \")\n",
    "    ratings[image] = int(rating)\n",
    "    current_image += 1\n",
    "    with open(\"ratings.txt\", \"a\") as f:\n",
    "        f.write(f\"{image}, {rating}\\n\")\n",
    "    print(f\"Progress: {current_image}/{num_images} images rated.\")\n",
    "    if rating == \"-1\":\n",
    "        deleted += 1\n",
    "        print(f\"Total deleted: {deleted}\")\n",
    "\n",
    "\n",
    "    \n",
    "\n"
   ]
  },
  {
   "cell_type": "code",
   "execution_count": null,
   "id": "623462ff",
   "metadata": {},
   "outputs": [],
   "source": [
    "ratings = []\n",
    "\n",
    "with open(\"ratings.txt\", \"r\") as f:\n",
    "    for line in f:\n",
    "        image, rating = line.strip().split(\", \")\n",
    "        ratings.append((image, int(rating)))\n",
    "\n",
    "# frequency of each rating\n",
    "from collections import Counter\n",
    "rating_counts = Counter([rating for image, rating in ratings])\n",
    "print(\"Rating counts:\", rating_counts)"
   ]
  }
 ],
 "metadata": {
  "kernelspec": {
   "display_name": "dtu_mlops",
   "language": "python",
   "name": "python3"
  },
  "language_info": {
   "codemirror_mode": {
    "name": "ipython",
    "version": 3
   },
   "file_extension": ".py",
   "mimetype": "text/x-python",
   "name": "python",
   "nbconvert_exporter": "python",
   "pygments_lexer": "ipython3",
   "version": "3.11.11"
  }
 },
 "nbformat": 4,
 "nbformat_minor": 5
}
